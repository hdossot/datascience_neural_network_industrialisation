{
 "cells": [
  {
   "cell_type": "markdown",
   "metadata": {},
   "source": [
    "## Code pour integration du modèle en production : \n",
    "* Etape 0 : Sert à générer le signal pour tester les fonctions (ne pas en tenir compte pour l'intégration du code)\n",
    "* Etape 1 & 2 : Déclaration des fonctions preprocessing et classifier, puis exécution pour avoir en sortie la valeur de la prédiction : 1 -> non bruité, 2 -> moyennement bruité, 3 -> fortement bruité\n",
    "* Fichier complémentaire : le dossier \"CNN_model_all_patients\" qui le modèle enregistré et que l'on charge à l'aide de Keras"
   ]
  },
  {
   "cell_type": "markdown",
   "metadata": {},
   "source": [
    "## Etape 0 - Generation du jeu de données d'entrée afin de générer un signal d'entrée pour tester les fonctions (liste de 2000 valeurs)"
   ]
  },
  {
   "cell_type": "code",
   "execution_count": 3,
   "metadata": {},
   "outputs": [
    {
     "name": "stdout",
     "output_type": "stream",
     "text": [
      "['../aura-data/118001/118001_ECG.hea', '../aura-data/118001/118001_ACC.hea', '../aura-data/118001/118001_ANN.csv', '../aura-data/118001/118001_ACC.dat', '../aura-data/118001/118001_ECG.dat']\n",
      "['../aura-data/100001/100001_ECG.dat', '../aura-data/111001/111001_ECG.dat', '../aura-data/105001/105001_ECG.dat']\n",
      "['../aura-data/100001/100001_ANN.csv', '../aura-data/111001/111001_ANN.csv', '../aura-data/105001/105001_ANN.csv']\n"
     ]
    },
    {
     "data": {
      "text/plain": [
       "['100001', '111001', '105001']"
      ]
     },
     "execution_count": 3,
     "metadata": {},
     "output_type": "execute_result"
    }
   ],
   "source": [
    "# Read the file path we have in the current folder \n",
    "\n",
    "# Save image path of training data\n",
    "import pathlib\n",
    "import re\n",
    "file_paths = pathlib.Path('../aura-data')\n",
    "\n",
    "# Convert all paths into a string with comprehension list\n",
    "file_paths = [str(file_path) for file_path in list(file_paths.glob(\"*/*\"))] # list python files in the directory tree\n",
    "print(file_paths[:5])\n",
    "# Select dat_path_file for patients 111001, 100001, 105001\n",
    "r = re.compile(\".*(111001|100001|105001)_ECG\\.dat$\") # create regex to match ECG.dat files\n",
    "ecg_file_dat_paths = list(filter(r.match, file_paths)) # Filter only paths for .dat files\n",
    "print(ecg_file_dat_paths[:5])\n",
    "# Select csv_path_file for patients 111001, 100001, 105001\n",
    "r = re.compile(\".*(111001|100001|105001)_ANN\\.csv$\") # create regex to match ECG.dat files\n",
    "ecg_file_csv_paths = list(filter(r.match, file_paths)) # Filter only paths for .dat files\n",
    "print(ecg_file_csv_paths[:5])\n",
    "# Create list of patient ids for patients 111001, 100001, 105001\n",
    "r = re.compile(\".*(111001|100001|105001)\")\n",
    "folder_paths = pathlib.Path('../aura-data')\n",
    "patient_ids = [str(folder_name) for folder_name in list(folder_paths.iterdir()) if folder_name.is_dir()] # extract folder paths in the current directory\n",
    "patient_ids = list(filter(r.findall, patient_ids))\n",
    "patient_ids = [re.findall('\\d+', x )[0] for x in patient_ids]\n",
    "patient_ids"
   ]
  },
  {
   "cell_type": "code",
   "execution_count": 4,
   "metadata": {},
   "outputs": [],
   "source": [
    "def resampling_data(sample_size, dat_file_path, csv_file_path):\n",
    "    # Import csv annotation file and remove lines with null start/ end/ class values\n",
    "    header_list = [\"start1\", \"end1\", \"class1\",\"start2\", \"end2\", \"class2\",\"start3\", \"end3\", \"class3\",\"start\", \"end\", \"class\"]\n",
    "    df_csv = pd.read_csv(csv_file_path, names=header_list)\n",
    "    df_csv = df_csv[df_csv[\"class\"].notnull() & df_csv[\"start\"].notnull() & df_csv[\"end\"].notnull()]\n",
    "    df_csv[\"start\"] = df_csv[\"start\"].astype(int)\n",
    "    df_csv[\"end\"] = df_csv[\"end\"].astype(int)\n",
    "    df_csv[\"class\"] = df_csv[\"class\"].astype(int)\n",
    "    df_csv = df_csv[df_csv[\"class\"]!=0].reset_index(drop=True)\n",
    "    df_csv['signal_length']=df_csv['end'] - df_csv['start'] \n",
    "    #df_csv[\"sample\"]=round(df_csv[\"signal_length\"]/sample_size)+1\n",
    "    display(df_csv.head())\n",
    "    display(df_csv.tail())\n",
    "    display(df_csv[\"class\"].value_counts()/len(df_csv))\n",
    "\n",
    "    # Import data and reshape it to array matrix with 1000 features \n",
    "    # Import all data in array\n",
    "    arr_data = wfdb.rdrecord(dat_file_path.replace(\".dat\",\"\"))\n",
    "    arr_data = arr_data.adc()\n",
    "    display(f\"Input dat file size : {arr_data.shape}\")\n",
    "\n",
    "    # Create a second column to set label value\n",
    "    arr_zero = np.zeros((arr_data.shape[0],arr_data.shape[1]), dtype=int)\n",
    "    arr_data = np.append(arr_data, arr_zero, axis=1)\n",
    "\n",
    "    # Create list with class label for each range of 1000 values\n",
    "    arr_data[0,1] = df_csv[\"class\"][0]\n",
    "    for i in tqdm(range(0,len(df_csv))):\n",
    "        label = df_csv[\"class\"][i]\n",
    "        start = int(df_csv.start[i])\n",
    "        end = int(df_csv.end[i])\n",
    "        for ii in range(start, end):\n",
    "            arr_data[ii,1] = label\n",
    "\n",
    "    # Display the number of row with null label\n",
    "    display(f\"Number of element with label == 0 : {arr_data[arr_data[:,1]==0].shape[0]}\")\n",
    "\n",
    "    # Remove row with null label\n",
    "    # arr_data = arr_data[arr_data[:,1]!=0]\n",
    "    # need to have number of rows which is a multiple of sample_size\n",
    "    arr_data_size = (arr_data.shape[0]//sample_size)*sample_size\n",
    "\n",
    "    # Reshape vector data into 2 Matrix (values, labels)\n",
    "    arr_data_values = arr_data[:,0]\n",
    "    arr_data_labels = arr_data[:,1]\n",
    "    arr_data_values = arr_data_values[:arr_data_size].reshape(arr_data[:arr_data_size].shape[0]//sample_size,sample_size)\n",
    "    arr_data_labels = arr_data_labels[:arr_data_size].reshape(arr_data[:arr_data_size].shape[0]//sample_size,sample_size)\n",
    "\n",
    "    # Choose the mode as final label for each sample\n",
    "    arr_data_label_results = np.zeros((arr_data_labels.shape[0],1), dtype=int)\n",
    "    for i in range(len(arr_data_labels)):\n",
    "        arr_data_label_results[i]=stats.mode(arr_data_labels[i])[0]\n",
    "\n",
    "    # Concatenate data array matrix with label column vector array\n",
    "    arr_data_resampled = np.concatenate((arr_data_values,arr_data_label_results), axis=1)\n",
    "\n",
    "    # Remove rows with null element in label column\n",
    "    arr_data_resampled = arr_data_resampled[arr_data_resampled[:,sample_size]!=0]\n",
    "    display(f\"Final array size : {arr_data_resampled.shape}\")\n",
    "    return arr_data_resampled"
   ]
  },
  {
   "cell_type": "code",
   "execution_count": 5,
   "metadata": {},
   "outputs": [],
   "source": [
    "def prepare_class(sample_size, arr_data_all, resample_scale):\n",
    "    arr_class_1 = arr_data_all[arr_data_all[:,sample_size]==1][:,:sample_size:resample_scale]\n",
    "    arr_class_1 = arr_class_1#/1000\n",
    "    display(arr_class_1.shape)\n",
    "    np.random.shuffle(arr_class_1)\n",
    "    display(arr_class_1)\n",
    "    arr_class_2 = arr_data_all[arr_data_all[:,sample_size]==2][:,:sample_size:resample_scale]\n",
    "    arr_class_2 = arr_class_2#/1000\n",
    "    #display(arr_class_2.shape)\n",
    "    np.random.shuffle(arr_class_2)\n",
    "    #display(arr_class_2)\n",
    "    arr_class_3 = arr_data_all[arr_data_all[:,sample_size]==3][:,:sample_size:resample_scale]\n",
    "    arr_class_3 = arr_class_3#/1000\n",
    "    #display(arr_class_3.shape)\n",
    "    np.random.shuffle(arr_class_3)\n",
    "    #display(arr_class_3)\n",
    "    arr_class_0 = np.concatenate((arr_class_2, arr_class_3), axis=0) \n",
    "    display(arr_class_0.shape)\n",
    "    np.random.shuffle(arr_class_0)\n",
    "    display(arr_class_0)\n",
    "    return arr_class_0, arr_class_1"
   ]
  },
  {
   "cell_type": "code",
   "execution_count": 6,
   "metadata": {},
   "outputs": [
    {
     "data": {
      "text/plain": [
       "'patient id : 100001'"
      ]
     },
     "metadata": {},
     "output_type": "display_data"
    },
    {
     "data": {
      "text/html": [
       "<div>\n",
       "<style scoped>\n",
       "    .dataframe tbody tr th:only-of-type {\n",
       "        vertical-align: middle;\n",
       "    }\n",
       "\n",
       "    .dataframe tbody tr th {\n",
       "        vertical-align: top;\n",
       "    }\n",
       "\n",
       "    .dataframe thead th {\n",
       "        text-align: right;\n",
       "    }\n",
       "</style>\n",
       "<table border=\"1\" class=\"dataframe\">\n",
       "  <thead>\n",
       "    <tr style=\"text-align: right;\">\n",
       "      <th></th>\n",
       "      <th>start1</th>\n",
       "      <th>end1</th>\n",
       "      <th>class1</th>\n",
       "      <th>start2</th>\n",
       "      <th>end2</th>\n",
       "      <th>class2</th>\n",
       "      <th>start3</th>\n",
       "      <th>end3</th>\n",
       "      <th>class3</th>\n",
       "      <th>start</th>\n",
       "      <th>end</th>\n",
       "      <th>class</th>\n",
       "      <th>signal_length</th>\n",
       "    </tr>\n",
       "  </thead>\n",
       "  <tbody>\n",
       "    <tr>\n",
       "      <th>0</th>\n",
       "      <td>1.0</td>\n",
       "      <td>198867.0</td>\n",
       "      <td>2.0</td>\n",
       "      <td>1.0</td>\n",
       "      <td>19525.0</td>\n",
       "      <td>1.0</td>\n",
       "      <td>1</td>\n",
       "      <td>7047</td>\n",
       "      <td>2</td>\n",
       "      <td>1</td>\n",
       "      <td>7047</td>\n",
       "      <td>2</td>\n",
       "      <td>7046</td>\n",
       "    </tr>\n",
       "    <tr>\n",
       "      <th>1</th>\n",
       "      <td>198868.0</td>\n",
       "      <td>320282.0</td>\n",
       "      <td>1.0</td>\n",
       "      <td>19526.0</td>\n",
       "      <td>28694.0</td>\n",
       "      <td>2.0</td>\n",
       "      <td>7048</td>\n",
       "      <td>17209</td>\n",
       "      <td>1</td>\n",
       "      <td>7048</td>\n",
       "      <td>17209</td>\n",
       "      <td>1</td>\n",
       "      <td>10161</td>\n",
       "    </tr>\n",
       "    <tr>\n",
       "      <th>2</th>\n",
       "      <td>320283.0</td>\n",
       "      <td>373109.0</td>\n",
       "      <td>2.0</td>\n",
       "      <td>28695.0</td>\n",
       "      <td>32739.0</td>\n",
       "      <td>1.0</td>\n",
       "      <td>17210</td>\n",
       "      <td>28390</td>\n",
       "      <td>2</td>\n",
       "      <td>17210</td>\n",
       "      <td>28694</td>\n",
       "      <td>2</td>\n",
       "      <td>11484</td>\n",
       "    </tr>\n",
       "    <tr>\n",
       "      <th>3</th>\n",
       "      <td>373110.0</td>\n",
       "      <td>2197974.0</td>\n",
       "      <td>1.0</td>\n",
       "      <td>32740.0</td>\n",
       "      <td>96699.0</td>\n",
       "      <td>2.0</td>\n",
       "      <td>28391</td>\n",
       "      <td>32653</td>\n",
       "      <td>1</td>\n",
       "      <td>28695</td>\n",
       "      <td>32653</td>\n",
       "      <td>1</td>\n",
       "      <td>3958</td>\n",
       "    </tr>\n",
       "    <tr>\n",
       "      <th>4</th>\n",
       "      <td>2197975.0</td>\n",
       "      <td>2582746.0</td>\n",
       "      <td>2.0</td>\n",
       "      <td>96700.0</td>\n",
       "      <td>110564.0</td>\n",
       "      <td>1.0</td>\n",
       "      <td>32654</td>\n",
       "      <td>71061</td>\n",
       "      <td>2</td>\n",
       "      <td>32654</td>\n",
       "      <td>112474</td>\n",
       "      <td>2</td>\n",
       "      <td>79820</td>\n",
       "    </tr>\n",
       "  </tbody>\n",
       "</table>\n",
       "</div>"
      ],
      "text/plain": [
       "      start1       end1  class1   start2      end2  class2  start3   end3  \\\n",
       "0        1.0   198867.0     2.0      1.0   19525.0     1.0       1   7047   \n",
       "1   198868.0   320282.0     1.0  19526.0   28694.0     2.0    7048  17209   \n",
       "2   320283.0   373109.0     2.0  28695.0   32739.0     1.0   17210  28390   \n",
       "3   373110.0  2197974.0     1.0  32740.0   96699.0     2.0   28391  32653   \n",
       "4  2197975.0  2582746.0     2.0  96700.0  110564.0     1.0   32654  71061   \n",
       "\n",
       "   class3  start     end  class  signal_length  \n",
       "0       2      1    7047      2           7046  \n",
       "1       1   7048   17209      1          10161  \n",
       "2       2  17210   28694      2          11484  \n",
       "3       1  28695   32653      1           3958  \n",
       "4       2  32654  112474      2          79820  "
      ]
     },
     "metadata": {},
     "output_type": "display_data"
    },
    {
     "data": {
      "text/html": [
       "<div>\n",
       "<style scoped>\n",
       "    .dataframe tbody tr th:only-of-type {\n",
       "        vertical-align: middle;\n",
       "    }\n",
       "\n",
       "    .dataframe tbody tr th {\n",
       "        vertical-align: top;\n",
       "    }\n",
       "\n",
       "    .dataframe thead th {\n",
       "        text-align: right;\n",
       "    }\n",
       "</style>\n",
       "<table border=\"1\" class=\"dataframe\">\n",
       "  <thead>\n",
       "    <tr style=\"text-align: right;\">\n",
       "      <th></th>\n",
       "      <th>start1</th>\n",
       "      <th>end1</th>\n",
       "      <th>class1</th>\n",
       "      <th>start2</th>\n",
       "      <th>end2</th>\n",
       "      <th>class2</th>\n",
       "      <th>start3</th>\n",
       "      <th>end3</th>\n",
       "      <th>class3</th>\n",
       "      <th>start</th>\n",
       "      <th>end</th>\n",
       "      <th>class</th>\n",
       "      <th>signal_length</th>\n",
       "    </tr>\n",
       "  </thead>\n",
       "  <tbody>\n",
       "    <tr>\n",
       "      <th>758</th>\n",
       "      <td>NaN</td>\n",
       "      <td>NaN</td>\n",
       "      <td>NaN</td>\n",
       "      <td>NaN</td>\n",
       "      <td>NaN</td>\n",
       "      <td>NaN</td>\n",
       "      <td>59818365</td>\n",
       "      <td>59824575</td>\n",
       "      <td>1</td>\n",
       "      <td>86486096</td>\n",
       "      <td>86580752</td>\n",
       "      <td>2</td>\n",
       "      <td>94656</td>\n",
       "    </tr>\n",
       "    <tr>\n",
       "      <th>759</th>\n",
       "      <td>NaN</td>\n",
       "      <td>NaN</td>\n",
       "      <td>NaN</td>\n",
       "      <td>NaN</td>\n",
       "      <td>NaN</td>\n",
       "      <td>NaN</td>\n",
       "      <td>59824576</td>\n",
       "      <td>59826028</td>\n",
       "      <td>2</td>\n",
       "      <td>86580753</td>\n",
       "      <td>86588415</td>\n",
       "      <td>1</td>\n",
       "      <td>7662</td>\n",
       "    </tr>\n",
       "    <tr>\n",
       "      <th>760</th>\n",
       "      <td>NaN</td>\n",
       "      <td>NaN</td>\n",
       "      <td>NaN</td>\n",
       "      <td>NaN</td>\n",
       "      <td>NaN</td>\n",
       "      <td>NaN</td>\n",
       "      <td>59826029</td>\n",
       "      <td>59830915</td>\n",
       "      <td>1</td>\n",
       "      <td>86588416</td>\n",
       "      <td>86757975</td>\n",
       "      <td>2</td>\n",
       "      <td>169559</td>\n",
       "    </tr>\n",
       "    <tr>\n",
       "      <th>761</th>\n",
       "      <td>NaN</td>\n",
       "      <td>NaN</td>\n",
       "      <td>NaN</td>\n",
       "      <td>NaN</td>\n",
       "      <td>NaN</td>\n",
       "      <td>NaN</td>\n",
       "      <td>59830916</td>\n",
       "      <td>59832492</td>\n",
       "      <td>2</td>\n",
       "      <td>86757976</td>\n",
       "      <td>86827127</td>\n",
       "      <td>1</td>\n",
       "      <td>69151</td>\n",
       "    </tr>\n",
       "    <tr>\n",
       "      <th>762</th>\n",
       "      <td>NaN</td>\n",
       "      <td>NaN</td>\n",
       "      <td>NaN</td>\n",
       "      <td>NaN</td>\n",
       "      <td>NaN</td>\n",
       "      <td>NaN</td>\n",
       "      <td>59832493</td>\n",
       "      <td>59858995</td>\n",
       "      <td>1</td>\n",
       "      <td>86827128</td>\n",
       "      <td>87087000</td>\n",
       "      <td>2</td>\n",
       "      <td>259872</td>\n",
       "    </tr>\n",
       "  </tbody>\n",
       "</table>\n",
       "</div>"
      ],
      "text/plain": [
       "     start1  end1  class1  start2  end2  class2    start3      end3  class3  \\\n",
       "758     NaN   NaN     NaN     NaN   NaN     NaN  59818365  59824575       1   \n",
       "759     NaN   NaN     NaN     NaN   NaN     NaN  59824576  59826028       2   \n",
       "760     NaN   NaN     NaN     NaN   NaN     NaN  59826029  59830915       1   \n",
       "761     NaN   NaN     NaN     NaN   NaN     NaN  59830916  59832492       2   \n",
       "762     NaN   NaN     NaN     NaN   NaN     NaN  59832493  59858995       1   \n",
       "\n",
       "        start       end  class  signal_length  \n",
       "758  86486096  86580752      2          94656  \n",
       "759  86580753  86588415      1           7662  \n",
       "760  86588416  86757975      2         169559  \n",
       "761  86757976  86827127      1          69151  \n",
       "762  86827128  87087000      2         259872  "
      ]
     },
     "metadata": {},
     "output_type": "display_data"
    },
    {
     "data": {
      "text/plain": [
       "2    0.500655\n",
       "1    0.496723\n",
       "3    0.002621\n",
       "Name: class, dtype: float64"
      ]
     },
     "metadata": {},
     "output_type": "display_data"
    },
    {
     "data": {
      "text/plain": [
       "'Input dat file size : (87087000, 1)'"
      ]
     },
     "metadata": {},
     "output_type": "display_data"
    },
    {
     "data": {
      "application/vnd.jupyter.widget-view+json": {
       "model_id": "e9d0c1280b3a43f7bd20a027a3491d4f",
       "version_major": 2,
       "version_minor": 0
      },
      "text/plain": [
       "HBox(children=(HTML(value=''), FloatProgress(value=0.0, max=763.0), HTML(value='')))"
      ]
     },
     "metadata": {},
     "output_type": "display_data"
    },
    {
     "name": "stdout",
     "output_type": "stream",
     "text": [
      "\n"
     ]
    },
    {
     "data": {
      "text/plain": [
       "'Number of element with label == 0 : 762'"
      ]
     },
     "metadata": {},
     "output_type": "display_data"
    },
    {
     "data": {
      "text/plain": [
       "'Final array size : (43543, 2001)'"
      ]
     },
     "metadata": {},
     "output_type": "display_data"
    },
    {
     "data": {
      "text/plain": [
       "'patient id : 111001'"
      ]
     },
     "metadata": {},
     "output_type": "display_data"
    },
    {
     "data": {
      "text/html": [
       "<div>\n",
       "<style scoped>\n",
       "    .dataframe tbody tr th:only-of-type {\n",
       "        vertical-align: middle;\n",
       "    }\n",
       "\n",
       "    .dataframe tbody tr th {\n",
       "        vertical-align: top;\n",
       "    }\n",
       "\n",
       "    .dataframe thead th {\n",
       "        text-align: right;\n",
       "    }\n",
       "</style>\n",
       "<table border=\"1\" class=\"dataframe\">\n",
       "  <thead>\n",
       "    <tr style=\"text-align: right;\">\n",
       "      <th></th>\n",
       "      <th>start1</th>\n",
       "      <th>end1</th>\n",
       "      <th>class1</th>\n",
       "      <th>start2</th>\n",
       "      <th>end2</th>\n",
       "      <th>class2</th>\n",
       "      <th>start3</th>\n",
       "      <th>end3</th>\n",
       "      <th>class3</th>\n",
       "      <th>start</th>\n",
       "      <th>end</th>\n",
       "      <th>class</th>\n",
       "      <th>signal_length</th>\n",
       "    </tr>\n",
       "  </thead>\n",
       "  <tbody>\n",
       "    <tr>\n",
       "      <th>0</th>\n",
       "      <td>1.0</td>\n",
       "      <td>4315694.0</td>\n",
       "      <td>2.0</td>\n",
       "      <td>1.0</td>\n",
       "      <td>411254.0</td>\n",
       "      <td>2.0</td>\n",
       "      <td>1</td>\n",
       "      <td>7523</td>\n",
       "      <td>1</td>\n",
       "      <td>1</td>\n",
       "      <td>415143</td>\n",
       "      <td>2</td>\n",
       "      <td>415142</td>\n",
       "    </tr>\n",
       "    <tr>\n",
       "      <th>1</th>\n",
       "      <td>4315695.0</td>\n",
       "      <td>4334794.0</td>\n",
       "      <td>1.0</td>\n",
       "      <td>411255.0</td>\n",
       "      <td>421291.0</td>\n",
       "      <td>1.0</td>\n",
       "      <td>7524</td>\n",
       "      <td>16977</td>\n",
       "      <td>2</td>\n",
       "      <td>415144</td>\n",
       "      <td>421291</td>\n",
       "      <td>1</td>\n",
       "      <td>6147</td>\n",
       "    </tr>\n",
       "    <tr>\n",
       "      <th>2</th>\n",
       "      <td>4334795.0</td>\n",
       "      <td>7908996.0</td>\n",
       "      <td>2.0</td>\n",
       "      <td>421292.0</td>\n",
       "      <td>433271.0</td>\n",
       "      <td>2.0</td>\n",
       "      <td>16978</td>\n",
       "      <td>18848</td>\n",
       "      <td>1</td>\n",
       "      <td>421292</td>\n",
       "      <td>433515</td>\n",
       "      <td>2</td>\n",
       "      <td>12223</td>\n",
       "    </tr>\n",
       "    <tr>\n",
       "      <th>3</th>\n",
       "      <td>7908997.0</td>\n",
       "      <td>7915643.0</td>\n",
       "      <td>1.0</td>\n",
       "      <td>433272.0</td>\n",
       "      <td>447315.0</td>\n",
       "      <td>1.0</td>\n",
       "      <td>18849</td>\n",
       "      <td>105566</td>\n",
       "      <td>2</td>\n",
       "      <td>433516</td>\n",
       "      <td>447315</td>\n",
       "      <td>1</td>\n",
       "      <td>13799</td>\n",
       "    </tr>\n",
       "    <tr>\n",
       "      <th>4</th>\n",
       "      <td>7915644.0</td>\n",
       "      <td>13719093.0</td>\n",
       "      <td>2.0</td>\n",
       "      <td>447316.0</td>\n",
       "      <td>451027.0</td>\n",
       "      <td>2.0</td>\n",
       "      <td>105567</td>\n",
       "      <td>108563</td>\n",
       "      <td>1</td>\n",
       "      <td>447316</td>\n",
       "      <td>451027</td>\n",
       "      <td>2</td>\n",
       "      <td>3711</td>\n",
       "    </tr>\n",
       "  </tbody>\n",
       "</table>\n",
       "</div>"
      ],
      "text/plain": [
       "      start1        end1  class1    start2      end2  class2  start3    end3  \\\n",
       "0        1.0   4315694.0     2.0       1.0  411254.0     2.0       1    7523   \n",
       "1  4315695.0   4334794.0     1.0  411255.0  421291.0     1.0    7524   16977   \n",
       "2  4334795.0   7908996.0     2.0  421292.0  433271.0     2.0   16978   18848   \n",
       "3  7908997.0   7915643.0     1.0  433272.0  447315.0     1.0   18849  105566   \n",
       "4  7915644.0  13719093.0     2.0  447316.0  451027.0     2.0  105567  108563   \n",
       "\n",
       "   class3   start     end  class  signal_length  \n",
       "0       1       1  415143      2         415142  \n",
       "1       2  415144  421291      1           6147  \n",
       "2       1  421292  433515      2          12223  \n",
       "3       2  433516  447315      1          13799  \n",
       "4       1  447316  451027      2           3711  "
      ]
     },
     "metadata": {},
     "output_type": "display_data"
    },
    {
     "data": {
      "text/html": [
       "<div>\n",
       "<style scoped>\n",
       "    .dataframe tbody tr th:only-of-type {\n",
       "        vertical-align: middle;\n",
       "    }\n",
       "\n",
       "    .dataframe tbody tr th {\n",
       "        vertical-align: top;\n",
       "    }\n",
       "\n",
       "    .dataframe thead th {\n",
       "        text-align: right;\n",
       "    }\n",
       "</style>\n",
       "<table border=\"1\" class=\"dataframe\">\n",
       "  <thead>\n",
       "    <tr style=\"text-align: right;\">\n",
       "      <th></th>\n",
       "      <th>start1</th>\n",
       "      <th>end1</th>\n",
       "      <th>class1</th>\n",
       "      <th>start2</th>\n",
       "      <th>end2</th>\n",
       "      <th>class2</th>\n",
       "      <th>start3</th>\n",
       "      <th>end3</th>\n",
       "      <th>class3</th>\n",
       "      <th>start</th>\n",
       "      <th>end</th>\n",
       "      <th>class</th>\n",
       "      <th>signal_length</th>\n",
       "    </tr>\n",
       "  </thead>\n",
       "  <tbody>\n",
       "    <tr>\n",
       "      <th>2734</th>\n",
       "      <td>NaN</td>\n",
       "      <td>NaN</td>\n",
       "      <td>NaN</td>\n",
       "      <td>NaN</td>\n",
       "      <td>NaN</td>\n",
       "      <td>NaN</td>\n",
       "      <td>35206925</td>\n",
       "      <td>35212255</td>\n",
       "      <td>1</td>\n",
       "      <td>88835329</td>\n",
       "      <td>88857959</td>\n",
       "      <td>1</td>\n",
       "      <td>22630</td>\n",
       "    </tr>\n",
       "    <tr>\n",
       "      <th>2735</th>\n",
       "      <td>NaN</td>\n",
       "      <td>NaN</td>\n",
       "      <td>NaN</td>\n",
       "      <td>NaN</td>\n",
       "      <td>NaN</td>\n",
       "      <td>NaN</td>\n",
       "      <td>35212256</td>\n",
       "      <td>35217108</td>\n",
       "      <td>2</td>\n",
       "      <td>88857960</td>\n",
       "      <td>89860280</td>\n",
       "      <td>2</td>\n",
       "      <td>1002320</td>\n",
       "    </tr>\n",
       "    <tr>\n",
       "      <th>2736</th>\n",
       "      <td>NaN</td>\n",
       "      <td>NaN</td>\n",
       "      <td>NaN</td>\n",
       "      <td>NaN</td>\n",
       "      <td>NaN</td>\n",
       "      <td>NaN</td>\n",
       "      <td>35217109</td>\n",
       "      <td>35222483</td>\n",
       "      <td>1</td>\n",
       "      <td>89860281</td>\n",
       "      <td>89872911</td>\n",
       "      <td>1</td>\n",
       "      <td>12630</td>\n",
       "    </tr>\n",
       "    <tr>\n",
       "      <th>2737</th>\n",
       "      <td>NaN</td>\n",
       "      <td>NaN</td>\n",
       "      <td>NaN</td>\n",
       "      <td>NaN</td>\n",
       "      <td>NaN</td>\n",
       "      <td>NaN</td>\n",
       "      <td>35222484</td>\n",
       "      <td>35270820</td>\n",
       "      <td>2</td>\n",
       "      <td>89872912</td>\n",
       "      <td>90622551</td>\n",
       "      <td>2</td>\n",
       "      <td>749639</td>\n",
       "    </tr>\n",
       "    <tr>\n",
       "      <th>2738</th>\n",
       "      <td>NaN</td>\n",
       "      <td>NaN</td>\n",
       "      <td>NaN</td>\n",
       "      <td>NaN</td>\n",
       "      <td>NaN</td>\n",
       "      <td>NaN</td>\n",
       "      <td>35270821</td>\n",
       "      <td>35273851</td>\n",
       "      <td>1</td>\n",
       "      <td>90622552</td>\n",
       "      <td>90645000</td>\n",
       "      <td>3</td>\n",
       "      <td>22448</td>\n",
       "    </tr>\n",
       "  </tbody>\n",
       "</table>\n",
       "</div>"
      ],
      "text/plain": [
       "      start1  end1  class1  start2  end2  class2    start3      end3  class3  \\\n",
       "2734     NaN   NaN     NaN     NaN   NaN     NaN  35206925  35212255       1   \n",
       "2735     NaN   NaN     NaN     NaN   NaN     NaN  35212256  35217108       2   \n",
       "2736     NaN   NaN     NaN     NaN   NaN     NaN  35217109  35222483       1   \n",
       "2737     NaN   NaN     NaN     NaN   NaN     NaN  35222484  35270820       2   \n",
       "2738     NaN   NaN     NaN     NaN   NaN     NaN  35270821  35273851       1   \n",
       "\n",
       "         start       end  class  signal_length  \n",
       "2734  88835329  88857959      1          22630  \n",
       "2735  88857960  89860280      2        1002320  \n",
       "2736  89860281  89872911      1          12630  \n",
       "2737  89872912  90622551      2         749639  \n",
       "2738  90622552  90645000      3          22448  "
      ]
     },
     "metadata": {},
     "output_type": "display_data"
    },
    {
     "data": {
      "text/plain": [
       "2    0.495071\n",
       "1    0.396130\n",
       "3    0.108799\n",
       "Name: class, dtype: float64"
      ]
     },
     "metadata": {},
     "output_type": "display_data"
    },
    {
     "data": {
      "text/plain": [
       "'Input dat file size : (90645000, 1)'"
      ]
     },
     "metadata": {},
     "output_type": "display_data"
    },
    {
     "data": {
      "application/vnd.jupyter.widget-view+json": {
       "model_id": "2b6d161e58a143f8bc624b4f35d82dc8",
       "version_major": 2,
       "version_minor": 0
      },
      "text/plain": [
       "HBox(children=(HTML(value=''), FloatProgress(value=0.0, max=2739.0), HTML(value='')))"
      ]
     },
     "metadata": {},
     "output_type": "display_data"
    },
    {
     "name": "stdout",
     "output_type": "stream",
     "text": [
      "\n"
     ]
    },
    {
     "data": {
      "text/plain": [
       "'Number of element with label == 0 : 2738'"
      ]
     },
     "metadata": {},
     "output_type": "display_data"
    },
    {
     "data": {
      "text/plain": [
       "'Final array size : (45322, 2001)'"
      ]
     },
     "metadata": {},
     "output_type": "display_data"
    },
    {
     "data": {
      "text/plain": [
       "'patient id : 105001'"
      ]
     },
     "metadata": {},
     "output_type": "display_data"
    },
    {
     "data": {
      "text/html": [
       "<div>\n",
       "<style scoped>\n",
       "    .dataframe tbody tr th:only-of-type {\n",
       "        vertical-align: middle;\n",
       "    }\n",
       "\n",
       "    .dataframe tbody tr th {\n",
       "        vertical-align: top;\n",
       "    }\n",
       "\n",
       "    .dataframe thead th {\n",
       "        text-align: right;\n",
       "    }\n",
       "</style>\n",
       "<table border=\"1\" class=\"dataframe\">\n",
       "  <thead>\n",
       "    <tr style=\"text-align: right;\">\n",
       "      <th></th>\n",
       "      <th>start1</th>\n",
       "      <th>end1</th>\n",
       "      <th>class1</th>\n",
       "      <th>start2</th>\n",
       "      <th>end2</th>\n",
       "      <th>class2</th>\n",
       "      <th>start3</th>\n",
       "      <th>end3</th>\n",
       "      <th>class3</th>\n",
       "      <th>start</th>\n",
       "      <th>end</th>\n",
       "      <th>class</th>\n",
       "      <th>signal_length</th>\n",
       "    </tr>\n",
       "  </thead>\n",
       "  <tbody>\n",
       "    <tr>\n",
       "      <th>0</th>\n",
       "      <td>1.0</td>\n",
       "      <td>47323379.0</td>\n",
       "      <td>3.0</td>\n",
       "      <td>1.0</td>\n",
       "      <td>47323871.0</td>\n",
       "      <td>3.0</td>\n",
       "      <td>1</td>\n",
       "      <td>47323500</td>\n",
       "      <td>3</td>\n",
       "      <td>1</td>\n",
       "      <td>47323500</td>\n",
       "      <td>3</td>\n",
       "      <td>47323499</td>\n",
       "    </tr>\n",
       "    <tr>\n",
       "      <th>1</th>\n",
       "      <td>47323380.0</td>\n",
       "      <td>47388207.0</td>\n",
       "      <td>2.0</td>\n",
       "      <td>47323872.0</td>\n",
       "      <td>47329547.0</td>\n",
       "      <td>1.0</td>\n",
       "      <td>47323501</td>\n",
       "      <td>47323539</td>\n",
       "      <td>1</td>\n",
       "      <td>47323501</td>\n",
       "      <td>47326788</td>\n",
       "      <td>2</td>\n",
       "      <td>3287</td>\n",
       "    </tr>\n",
       "    <tr>\n",
       "      <th>2</th>\n",
       "      <td>47388208.0</td>\n",
       "      <td>47404719.0</td>\n",
       "      <td>1.0</td>\n",
       "      <td>47329548.0</td>\n",
       "      <td>47333899.0</td>\n",
       "      <td>2.0</td>\n",
       "      <td>47323540</td>\n",
       "      <td>47326788</td>\n",
       "      <td>2</td>\n",
       "      <td>47326789</td>\n",
       "      <td>47329547</td>\n",
       "      <td>1</td>\n",
       "      <td>2758</td>\n",
       "    </tr>\n",
       "    <tr>\n",
       "      <th>3</th>\n",
       "      <td>47404720.0</td>\n",
       "      <td>47449035.0</td>\n",
       "      <td>2.0</td>\n",
       "      <td>47333900.0</td>\n",
       "      <td>47370615.0</td>\n",
       "      <td>1.0</td>\n",
       "      <td>47326789</td>\n",
       "      <td>47329715</td>\n",
       "      <td>1</td>\n",
       "      <td>47329548</td>\n",
       "      <td>47333904</td>\n",
       "      <td>2</td>\n",
       "      <td>4356</td>\n",
       "    </tr>\n",
       "    <tr>\n",
       "      <th>4</th>\n",
       "      <td>47449036.0</td>\n",
       "      <td>47492819.0</td>\n",
       "      <td>1.0</td>\n",
       "      <td>47370616.0</td>\n",
       "      <td>47377747.0</td>\n",
       "      <td>2.0</td>\n",
       "      <td>47329716</td>\n",
       "      <td>47333904</td>\n",
       "      <td>2</td>\n",
       "      <td>47333905</td>\n",
       "      <td>47370615</td>\n",
       "      <td>1</td>\n",
       "      <td>36710</td>\n",
       "    </tr>\n",
       "  </tbody>\n",
       "</table>\n",
       "</div>"
      ],
      "text/plain": [
       "       start1        end1  class1      start2        end2  class2    start3  \\\n",
       "0         1.0  47323379.0     3.0         1.0  47323871.0     3.0         1   \n",
       "1  47323380.0  47388207.0     2.0  47323872.0  47329547.0     1.0  47323501   \n",
       "2  47388208.0  47404719.0     1.0  47329548.0  47333899.0     2.0  47323540   \n",
       "3  47404720.0  47449035.0     2.0  47333900.0  47370615.0     1.0  47326789   \n",
       "4  47449036.0  47492819.0     1.0  47370616.0  47377747.0     2.0  47329716   \n",
       "\n",
       "       end3  class3     start       end  class  signal_length  \n",
       "0  47323500       3         1  47323500      3       47323499  \n",
       "1  47323539       1  47323501  47326788      2           3287  \n",
       "2  47326788       2  47326789  47329547      1           2758  \n",
       "3  47329715       1  47329548  47333904      2           4356  \n",
       "4  47333904       2  47333905  47370615      1          36710  "
      ]
     },
     "metadata": {},
     "output_type": "display_data"
    },
    {
     "data": {
      "text/html": [
       "<div>\n",
       "<style scoped>\n",
       "    .dataframe tbody tr th:only-of-type {\n",
       "        vertical-align: middle;\n",
       "    }\n",
       "\n",
       "    .dataframe tbody tr th {\n",
       "        vertical-align: top;\n",
       "    }\n",
       "\n",
       "    .dataframe thead th {\n",
       "        text-align: right;\n",
       "    }\n",
       "</style>\n",
       "<table border=\"1\" class=\"dataframe\">\n",
       "  <thead>\n",
       "    <tr style=\"text-align: right;\">\n",
       "      <th></th>\n",
       "      <th>start1</th>\n",
       "      <th>end1</th>\n",
       "      <th>class1</th>\n",
       "      <th>start2</th>\n",
       "      <th>end2</th>\n",
       "      <th>class2</th>\n",
       "      <th>start3</th>\n",
       "      <th>end3</th>\n",
       "      <th>class3</th>\n",
       "      <th>start</th>\n",
       "      <th>end</th>\n",
       "      <th>class</th>\n",
       "      <th>signal_length</th>\n",
       "    </tr>\n",
       "  </thead>\n",
       "  <tbody>\n",
       "    <tr>\n",
       "      <th>1349</th>\n",
       "      <td>NaN</td>\n",
       "      <td>NaN</td>\n",
       "      <td>NaN</td>\n",
       "      <td>NaN</td>\n",
       "      <td>NaN</td>\n",
       "      <td>NaN</td>\n",
       "      <td>79063217</td>\n",
       "      <td>79158543</td>\n",
       "      <td>1</td>\n",
       "      <td>138907088</td>\n",
       "      <td>138909568</td>\n",
       "      <td>2</td>\n",
       "      <td>2480</td>\n",
       "    </tr>\n",
       "    <tr>\n",
       "      <th>1350</th>\n",
       "      <td>NaN</td>\n",
       "      <td>NaN</td>\n",
       "      <td>NaN</td>\n",
       "      <td>NaN</td>\n",
       "      <td>NaN</td>\n",
       "      <td>NaN</td>\n",
       "      <td>79158544</td>\n",
       "      <td>79159920</td>\n",
       "      <td>2</td>\n",
       "      <td>138909569</td>\n",
       "      <td>138989087</td>\n",
       "      <td>1</td>\n",
       "      <td>79518</td>\n",
       "    </tr>\n",
       "    <tr>\n",
       "      <th>1351</th>\n",
       "      <td>NaN</td>\n",
       "      <td>NaN</td>\n",
       "      <td>NaN</td>\n",
       "      <td>NaN</td>\n",
       "      <td>NaN</td>\n",
       "      <td>NaN</td>\n",
       "      <td>79159921</td>\n",
       "      <td>79163967</td>\n",
       "      <td>1</td>\n",
       "      <td>138989088</td>\n",
       "      <td>138997600</td>\n",
       "      <td>2</td>\n",
       "      <td>8512</td>\n",
       "    </tr>\n",
       "    <tr>\n",
       "      <th>1352</th>\n",
       "      <td>NaN</td>\n",
       "      <td>NaN</td>\n",
       "      <td>NaN</td>\n",
       "      <td>NaN</td>\n",
       "      <td>NaN</td>\n",
       "      <td>NaN</td>\n",
       "      <td>79163968</td>\n",
       "      <td>79166160</td>\n",
       "      <td>2</td>\n",
       "      <td>138997601</td>\n",
       "      <td>139120079</td>\n",
       "      <td>1</td>\n",
       "      <td>122478</td>\n",
       "    </tr>\n",
       "    <tr>\n",
       "      <th>1353</th>\n",
       "      <td>NaN</td>\n",
       "      <td>NaN</td>\n",
       "      <td>NaN</td>\n",
       "      <td>NaN</td>\n",
       "      <td>NaN</td>\n",
       "      <td>NaN</td>\n",
       "      <td>79166161</td>\n",
       "      <td>79174599</td>\n",
       "      <td>1</td>\n",
       "      <td>139120080</td>\n",
       "      <td>139147000</td>\n",
       "      <td>3</td>\n",
       "      <td>26920</td>\n",
       "    </tr>\n",
       "  </tbody>\n",
       "</table>\n",
       "</div>"
      ],
      "text/plain": [
       "      start1  end1  class1  start2  end2  class2    start3      end3  class3  \\\n",
       "1349     NaN   NaN     NaN     NaN   NaN     NaN  79063217  79158543       1   \n",
       "1350     NaN   NaN     NaN     NaN   NaN     NaN  79158544  79159920       2   \n",
       "1351     NaN   NaN     NaN     NaN   NaN     NaN  79159921  79163967       1   \n",
       "1352     NaN   NaN     NaN     NaN   NaN     NaN  79163968  79166160       2   \n",
       "1353     NaN   NaN     NaN     NaN   NaN     NaN  79166161  79174599       1   \n",
       "\n",
       "          start        end  class  signal_length  \n",
       "1349  138907088  138909568      2           2480  \n",
       "1350  138909569  138989087      1          79518  \n",
       "1351  138989088  138997600      2           8512  \n",
       "1352  138997601  139120079      1         122478  \n",
       "1353  139120080  139147000      3          26920  "
      ]
     },
     "metadata": {},
     "output_type": "display_data"
    },
    {
     "data": {
      "text/plain": [
       "2    0.499261\n",
       "1    0.499261\n",
       "3    0.001477\n",
       "Name: class, dtype: float64"
      ]
     },
     "metadata": {},
     "output_type": "display_data"
    },
    {
     "data": {
      "text/plain": [
       "'Input dat file size : (139147000, 1)'"
      ]
     },
     "metadata": {},
     "output_type": "display_data"
    },
    {
     "data": {
      "application/vnd.jupyter.widget-view+json": {
       "model_id": "43e47fb707974b09b457bbdae7057c3f",
       "version_major": 2,
       "version_minor": 0
      },
      "text/plain": [
       "HBox(children=(HTML(value=''), FloatProgress(value=0.0, max=1354.0), HTML(value='')))"
      ]
     },
     "metadata": {},
     "output_type": "display_data"
    },
    {
     "name": "stdout",
     "output_type": "stream",
     "text": [
      "\n"
     ]
    },
    {
     "data": {
      "text/plain": [
       "'Number of element with label == 0 : 1353'"
      ]
     },
     "metadata": {},
     "output_type": "display_data"
    },
    {
     "data": {
      "text/plain": [
       "'Final array size : (69573, 2001)'"
      ]
     },
     "metadata": {},
     "output_type": "display_data"
    },
    {
     "data": {
      "text/plain": [
       "array([[32292, 32270, 32272, ..., 15422, 15422,     2],\n",
       "       [15450, 15486, 15498, ...,  6051,  6037,     2],\n",
       "       [ 6019,  5995,  5957, ..., -1206, -1200,     2],\n",
       "       ...,\n",
       "       [  -77,  -323,  -441, ...,  -293,  -516,     3],\n",
       "       [ -530,  -615,  -661, ...,  -529,  -540,     3],\n",
       "       [ -698,  -817,  -845, ...,   133,   -72,     3]])"
      ]
     },
     "execution_count": 6,
     "metadata": {},
     "output_type": "execute_result"
    }
   ],
   "source": [
    "# Use function for all patients \n",
    "import numpy as np\n",
    "import pandas as pd\n",
    "import wfdb\n",
    "from tqdm.notebook import tqdm\n",
    "from scipy import stats\n",
    "sample_size = 2000\n",
    "arr_data_all = np.zeros((0,sample_size+1), dtype=int)\n",
    "for patient_id, dat_file_path, csv_file_path in zip(patient_ids, ecg_file_dat_paths,ecg_file_csv_paths):\n",
    "    display(f\"patient id : {patient_id}\")\n",
    "    arr_data_labelized = resampling_data(sample_size, dat_file_path, csv_file_path)\n",
    "    arr_data_all = np.concatenate((arr_data_all,arr_data_labelized), axis=0)\n",
    "arr_data_all"
   ]
  },
  {
   "cell_type": "code",
   "execution_count": 7,
   "metadata": {
    "scrolled": false
   },
   "outputs": [
    {
     "data": {
      "text/plain": [
       "(158438, 2001)"
      ]
     },
     "execution_count": 7,
     "metadata": {},
     "output_type": "execute_result"
    }
   ],
   "source": [
    "arr_data_all.shape"
   ]
  },
  {
   "cell_type": "code",
   "execution_count": 8,
   "metadata": {
    "scrolled": true
   },
   "outputs": [
    {
     "data": {
      "text/plain": [
       "(78077, 2000)"
      ]
     },
     "metadata": {},
     "output_type": "display_data"
    },
    {
     "data": {
      "text/plain": [
       "array([[  -114,   -116,   -116, ...,   -183,   -183,   -188],\n",
       "       [  -102,   -101,   -101, ...,    -88,    -92,   -106],\n",
       "       [-12446, -12461, -12455, ..., -11805, -11819, -11815],\n",
       "       ...,\n",
       "       [    90,     88,     90, ...,    -66,    -59,    -54],\n",
       "       [    13,      7,     10, ...,    144,    198,    255],\n",
       "       [   198,    197,    192, ...,   -133,   -137,   -131]])"
      ]
     },
     "metadata": {},
     "output_type": "display_data"
    },
    {
     "data": {
      "text/plain": [
       "(80361, 2000)"
      ]
     },
     "metadata": {},
     "output_type": "display_data"
    },
    {
     "data": {
      "text/plain": [
       "array([[-120, -126, -131, ...,  106,  105,  108],\n",
       "       [ -97, -103, -107, ...,  289,  294,  290],\n",
       "       [ -33,  -25,  -47, ...,  -36,  -26,   -6],\n",
       "       ...,\n",
       "       [-185, -189, -179, ...,  351,  334,  324],\n",
       "       [ 124,  130,  136, ..., -336, -336, -329],\n",
       "       [ 365,  394,  379, ..., -184, -181, -174]])"
      ]
     },
     "metadata": {},
     "output_type": "display_data"
    }
   ],
   "source": [
    "resample_scale = 1\n",
    "arr_class_0, arr_class_1 = prepare_class(sample_size, arr_data_all, resample_scale)"
   ]
  },
  {
   "cell_type": "code",
   "execution_count": 9,
   "metadata": {},
   "outputs": [],
   "source": [
    "list_ = list(arr_class_1[0]) # On charge le signal (liste de 2000 valeurs dans la variable list_)"
   ]
  },
  {
   "cell_type": "markdown",
   "metadata": {},
   "source": [
    "## Etape 1 - Declaration de la fonction de preprocessing : Transformation de la liste en Scaleogramme pour tester le modèle -> X_prod"
   ]
  },
  {
   "cell_type": "code",
   "execution_count": 17,
   "metadata": {},
   "outputs": [],
   "source": [
    "from sklearn.preprocessing import StandardScaler\n",
    "import pywt\n",
    "def preprocessing(list_):\n",
    "    signal_length = 2000 # nous prenons des portions de 2000 valeurs du signal brut\n",
    "    waveletname = 'morl'\n",
    "    signal = np.asarray(list_[:signal_length:8]) # we reduce the number of values by 8 : signal of 2000 values to 250 values\n",
    "    scaler = StandardScaler()\n",
    "    signal = scaler.fit_transform(signal.reshape(-1, 1)).reshape(250,) # apply standard scalar in the signal\n",
    "    signal = list(signal)\n",
    "    size_dataset = 1 # 1 seul signal est donnée en entrée\n",
    "    fs = len(signal)\n",
    "    scales = range(1, fs)\n",
    "    X_prod = np.ndarray(shape=(size_dataset, fs-1, fs-1, 3))\n",
    "    for j in tqdm(range(0, 3)):\n",
    "        coeff, freq = pywt.cwt(signal, scales, waveletname, 1)\n",
    "        X_prod[0, :, :, j] = coeff[:,:fs-1]\n",
    "    return X_prod"
   ]
  },
  {
   "cell_type": "markdown",
   "metadata": {},
   "source": [
    "## Etape 2 - Declaration fonction de classification (chargement du modèle, X_prod en input)"
   ]
  },
  {
   "cell_type": "code",
   "execution_count": 18,
   "metadata": {},
   "outputs": [],
   "source": [
    "from tensorflow import keras\n",
    "def classifier(X_prod):\n",
    "    model = keras.models.load_model(\"CNN_model_all_patients_v2\")\n",
    "    return int(model.predict_classes(X_prod)) # La fonction renvoie en sortie la valeur de la prédiction : 1 -> non bruité, 2 -> moyennement bruité, 3 -> fortement bruité"
   ]
  },
  {
   "cell_type": "markdown",
   "metadata": {},
   "source": [
    "## Etape 3 - Execution des fonctions"
   ]
  },
  {
   "cell_type": "code",
   "execution_count": 19,
   "metadata": {
    "scrolled": false
   },
   "outputs": [
    {
     "data": {
      "application/vnd.jupyter.widget-view+json": {
       "model_id": "c4e0a7967d134fae88b7ccf3c44d2dcf",
       "version_major": 2,
       "version_minor": 0
      },
      "text/plain": [
       "HBox(children=(HTML(value=''), FloatProgress(value=0.0, max=3.0), HTML(value='')))"
      ]
     },
     "metadata": {},
     "output_type": "display_data"
    },
    {
     "name": "stdout",
     "output_type": "stream",
     "text": [
      "\n"
     ]
    }
   ],
   "source": [
    "X_prod = preprocessing(list_)  # On applique la fonction de preprocessing avec en input list_ (liste de 2000 valeurs dans la variable list_)"
   ]
  },
  {
   "cell_type": "code",
   "execution_count": 20,
   "metadata": {},
   "outputs": [
    {
     "name": "stdout",
     "output_type": "stream",
     "text": [
      "WARNING:tensorflow:From <ipython-input-18-e70cac2846bd>:4: Sequential.predict_classes (from tensorflow.python.keras.engine.sequential) is deprecated and will be removed after 2021-01-01.\n",
      "Instructions for updating:\n",
      "Please use instead:* `np.argmax(model.predict(x), axis=-1)`,   if your model does multi-class classification   (e.g. if it uses a `softmax` last-layer activation).* `(model.predict(x) > 0.5).astype(\"int32\")`,   if your model does binary classification   (e.g. if it uses a `sigmoid` last-layer activation).\n"
     ]
    }
   ],
   "source": [
    "result = classifier(X_prod) # On execute la fonction classifier avec X_prod en input (valeurs en sortie : 1 -> non bruité, 2 -> moyennement bruité, 3 -> fortement bruité)"
   ]
  },
  {
   "cell_type": "code",
   "execution_count": 21,
   "metadata": {},
   "outputs": [
    {
     "name": "stdout",
     "output_type": "stream",
     "text": [
      "1\n"
     ]
    }
   ],
   "source": [
    "print(result)"
   ]
  },
  {
   "cell_type": "code",
   "execution_count": null,
   "metadata": {},
   "outputs": [],
   "source": []
  }
 ],
 "metadata": {
  "kernelspec": {
   "display_name": "Python 3",
   "language": "python",
   "name": "python3"
  },
  "language_info": {
   "codemirror_mode": {
    "name": "ipython",
    "version": 3
   },
   "file_extension": ".py",
   "mimetype": "text/x-python",
   "name": "python",
   "nbconvert_exporter": "python",
   "pygments_lexer": "ipython3",
   "version": "3.8.5"
  }
 },
 "nbformat": 4,
 "nbformat_minor": 4
}
